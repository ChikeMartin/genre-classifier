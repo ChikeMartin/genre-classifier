{
 "cells": [
  {
   "cell_type": "markdown",
   "metadata": {},
   "source": [
    "# Data Preprocessing"
   ]
  },
  {
   "cell_type": "code",
   "execution_count": 1,
   "metadata": {},
   "outputs": [],
   "source": [
    "from audiosep.data import split_data\n",
    "import mutagen\n",
    "import librosa\n",
    "from scipy.io import wavfile\n",
    "import librosa\n",
    "import os\n",
    "import math\n",
    "import numpy as np\n",
    "import tempfile\n",
    "import soundfile as sf\n",
    "from audiosep.data import load_data, split_data"
   ]
  },
  {
   "cell_type": "code",
   "execution_count": 2,
   "metadata": {},
   "outputs": [],
   "source": [
    "%load_ext autoreload\n",
    "%autoreload 2"
   ]
  },
  {
   "cell_type": "code",
   "execution_count": 106,
   "metadata": {},
   "outputs": [],
   "source": [
    "def get_mfcc(path, n_mfcc= 13, n_fft= 2048, hop_length= 512, num_segments= 10):\n",
    "\n",
    "    SAMPLE_RATE = 22050\n",
    "    duration = 30\n",
    "    samples_per_track = SAMPLE_RATE * duration\n",
    "\n",
    "    num_samples_per_segment = int(samples_per_track / num_segments)\n",
    "    expected_nmfcc_vectors_per_segment = math.ceil(num_samples_per_segment / hop_length)\n",
    "    \n",
    "    if type(path) == np.ndarray:\n",
    "        signal = path\n",
    "    else:\n",
    "        signal, sr = librosa.load(path, sr=SAMPLE_RATE)\n",
    "\n",
    "    # process by segment, extracting mfcc and storing data\n",
    "    for s in range(num_segments):\n",
    "        start_sample = num_samples_per_segment * s \n",
    "        finish_sample = start_sample + num_samples_per_segment\n",
    "\n",
    "        mfcc = librosa.feature.mfcc(signal[start_sample: finish_sample],\n",
    "                                    sr=SAMPLE_RATE,\n",
    "                                    n_fft= n_fft,\n",
    "                                    n_mfcc= n_mfcc,\n",
    "                                    hop_length = hop_length)\n",
    "        mfcc = mfcc.T\n",
    "       \n",
    "        if len(mfcc) == expected_nmfcc_vectors_per_segment:\n",
    "            return mfcc"
   ]
  },
  {
   "cell_type": "markdown",
   "metadata": {},
   "source": [
    "## sub sample 10"
   ]
  },
  {
   "cell_type": "markdown",
   "metadata": {},
   "source": [
    "# Test Model"
   ]
  },
  {
   "cell_type": "code",
   "execution_count": 8,
   "metadata": {},
   "outputs": [],
   "source": [
    "X_train, X_val, X_test, y_train, y_val, y_test = split_data()"
   ]
  },
  {
   "cell_type": "code",
   "execution_count": 9,
   "metadata": {},
   "outputs": [
    {
     "name": "stdout",
     "output_type": "stream",
     "text": [
      "(5397, 130, 13, 1)\n",
      "(1350, 130, 13, 1)\n",
      "(2249, 130, 13, 1)\n"
     ]
    }
   ],
   "source": [
    "print(X_train.shape)\n",
    "print(X_val.shape)\n",
    "print(X_test.shape)"
   ]
  },
  {
   "cell_type": "code",
   "execution_count": 10,
   "metadata": {},
   "outputs": [],
   "source": [
    "from sklearn.model_selection import train_test_split\n",
    "from tensorflow.keras.models import Sequential\n",
    "from tensorflow.keras.layers import BatchNormalization, Conv2D, MaxPool2D, Dense, Flatten, Dropout\n",
    "from tensorflow.keras.callbacks import EarlyStopping\n",
    "from tensorflow.keras.optimizers import Adam\n",
    "from tensorflow.keras import regularizers"
   ]
  },
  {
   "cell_type": "code",
   "execution_count": 11,
   "metadata": {},
   "outputs": [],
   "source": [
    "def initialize_conv(input_shape):\n",
    "    # create model\n",
    "    model = Sequential()\n",
    "    \n",
    "    # 1st cond layer\n",
    "    model.add(Conv2D(32, (3, 3), activation= 'relu', input_shape=input_shape))\n",
    "    model.add(MaxPool2D((3, 3), strides= (2, 2), padding= 'same'))\n",
    "    model.add(BatchNormalization())\n",
    "    \n",
    "    # 2nd conv layer\n",
    "    model.add(Conv2D(32, (3, 3), activation= 'relu'))\n",
    "    model.add(MaxPool2D((3, 3), strides= (2, 2), padding= 'same'))\n",
    "    model.add(BatchNormalization())\n",
    "    \n",
    "    # 3rd conv layer\n",
    "    model.add(Conv2D(32, (2, 2), activation= 'relu'))\n",
    "    model.add(MaxPool2D((2, 2), strides= (2, 2), padding= 'same'))\n",
    "    model.add(BatchNormalization())\n",
    "    \n",
    "    # flatten to 1D array and feed to dense\n",
    "    model.add(Flatten())\n",
    "    model.add(Dense(64, activation= 'relu'))\n",
    "    model.add(Dropout(0.3))\n",
    "    \n",
    "    # output layer\n",
    "    model.add(Dense(9, activation= 'softmax'))\n",
    "    \n",
    "    # compile model\n",
    "    model.compile(loss='sparse_categorical_crossentropy',\n",
    "              optimizer=Adam(learning_rate=0.0003),\n",
    "              metrics=['accuracy'])\n",
    "    \n",
    "    return model"
   ]
  },
  {
   "cell_type": "code",
   "execution_count": 12,
   "metadata": {},
   "outputs": [],
   "source": [
    "input_shape = (X_train.shape[1], X_train.shape[2], X_train.shape[3])"
   ]
  },
  {
   "cell_type": "code",
   "execution_count": 24,
   "metadata": {},
   "outputs": [
    {
     "data": {
      "text/plain": [
       "(130, 13, 1)"
      ]
     },
     "execution_count": 24,
     "metadata": {},
     "output_type": "execute_result"
    }
   ],
   "source": [
    "input_shape"
   ]
  },
  {
   "cell_type": "code",
   "execution_count": 13,
   "metadata": {
    "collapsed": true
   },
   "outputs": [
    {
     "name": "stdout",
     "output_type": "stream",
     "text": [
      "Model: \"sequential\"\n",
      "_________________________________________________________________\n",
      "Layer (type)                 Output Shape              Param #   \n",
      "=================================================================\n",
      "conv2d (Conv2D)              (None, 128, 11, 32)       320       \n",
      "_________________________________________________________________\n",
      "max_pooling2d (MaxPooling2D) (None, 64, 6, 32)         0         \n",
      "_________________________________________________________________\n",
      "batch_normalization (BatchNo (None, 64, 6, 32)         128       \n",
      "_________________________________________________________________\n",
      "conv2d_1 (Conv2D)            (None, 62, 4, 32)         9248      \n",
      "_________________________________________________________________\n",
      "max_pooling2d_1 (MaxPooling2 (None, 31, 2, 32)         0         \n",
      "_________________________________________________________________\n",
      "batch_normalization_1 (Batch (None, 31, 2, 32)         128       \n",
      "_________________________________________________________________\n",
      "conv2d_2 (Conv2D)            (None, 30, 1, 32)         4128      \n",
      "_________________________________________________________________\n",
      "max_pooling2d_2 (MaxPooling2 (None, 15, 1, 32)         0         \n",
      "_________________________________________________________________\n",
      "batch_normalization_2 (Batch (None, 15, 1, 32)         128       \n",
      "_________________________________________________________________\n",
      "flatten (Flatten)            (None, 480)               0         \n",
      "_________________________________________________________________\n",
      "dense (Dense)                (None, 64)                30784     \n",
      "_________________________________________________________________\n",
      "dropout (Dropout)            (None, 64)                0         \n",
      "_________________________________________________________________\n",
      "dense_1 (Dense)              (None, 9)                 585       \n",
      "=================================================================\n",
      "Total params: 45,449\n",
      "Trainable params: 45,257\n",
      "Non-trainable params: 192\n",
      "_________________________________________________________________\n"
     ]
    }
   ],
   "source": [
    "cnn_model = initialize_conv(input_shape)\n",
    "cnn_model.summary()"
   ]
  },
  {
   "cell_type": "code",
   "execution_count": 14,
   "metadata": {
    "collapsed": true
   },
   "outputs": [
    {
     "name": "stdout",
     "output_type": "stream",
     "text": [
      "Epoch 1/30\n",
      "169/169 - 4s - loss: 1.9141 - accuracy: 0.3476 - val_loss: 1.5412 - val_accuracy: 0.4570\n",
      "Epoch 2/30\n",
      "169/169 - 3s - loss: 1.4261 - accuracy: 0.4918 - val_loss: 1.2322 - val_accuracy: 0.5548\n",
      "Epoch 3/30\n",
      "169/169 - 3s - loss: 1.2225 - accuracy: 0.5533 - val_loss: 1.0704 - val_accuracy: 0.6037\n",
      "Epoch 4/30\n",
      "169/169 - 3s - loss: 1.1334 - accuracy: 0.5968 - val_loss: 1.0174 - val_accuracy: 0.6222\n",
      "Epoch 5/30\n",
      "169/169 - 3s - loss: 1.0399 - accuracy: 0.6322 - val_loss: 0.9593 - val_accuracy: 0.6548\n",
      "Epoch 6/30\n",
      "169/169 - 3s - loss: 0.9378 - accuracy: 0.6607 - val_loss: 0.9362 - val_accuracy: 0.6711\n",
      "Epoch 7/30\n",
      "169/169 - 4s - loss: 0.8910 - accuracy: 0.6828 - val_loss: 0.9292 - val_accuracy: 0.6756\n",
      "Epoch 8/30\n",
      "169/169 - 4s - loss: 0.8514 - accuracy: 0.6904 - val_loss: 0.8792 - val_accuracy: 0.6970\n",
      "Epoch 9/30\n",
      "169/169 - 4s - loss: 0.7865 - accuracy: 0.7284 - val_loss: 0.9058 - val_accuracy: 0.6741\n",
      "Epoch 10/30\n",
      "169/169 - 4s - loss: 0.7680 - accuracy: 0.7237 - val_loss: 0.8987 - val_accuracy: 0.6852\n",
      "Epoch 11/30\n",
      "169/169 - 4s - loss: 0.7275 - accuracy: 0.7436 - val_loss: 0.8317 - val_accuracy: 0.7111\n",
      "Epoch 12/30\n",
      "169/169 - 4s - loss: 0.6950 - accuracy: 0.7575 - val_loss: 0.8222 - val_accuracy: 0.7007\n",
      "Epoch 13/30\n",
      "169/169 - 4s - loss: 0.6682 - accuracy: 0.7654 - val_loss: 0.7515 - val_accuracy: 0.7296\n",
      "Epoch 14/30\n",
      "169/169 - 4s - loss: 0.6225 - accuracy: 0.7869 - val_loss: 0.7884 - val_accuracy: 0.7170\n",
      "Epoch 15/30\n",
      "169/169 - 4s - loss: 0.6047 - accuracy: 0.7865 - val_loss: 0.7496 - val_accuracy: 0.7326\n",
      "Epoch 16/30\n",
      "169/169 - 4s - loss: 0.5801 - accuracy: 0.7962 - val_loss: 0.7801 - val_accuracy: 0.7281\n",
      "Epoch 17/30\n",
      "169/169 - 4s - loss: 0.5515 - accuracy: 0.8034 - val_loss: 0.7520 - val_accuracy: 0.7378\n",
      "Epoch 18/30\n",
      "169/169 - 4s - loss: 0.5368 - accuracy: 0.8088 - val_loss: 0.7444 - val_accuracy: 0.7363\n",
      "Epoch 19/30\n",
      "169/169 - 4s - loss: 0.5138 - accuracy: 0.8232 - val_loss: 0.8120 - val_accuracy: 0.7052\n",
      "Epoch 20/30\n",
      "169/169 - 4s - loss: 0.4860 - accuracy: 0.8247 - val_loss: 0.8224 - val_accuracy: 0.7311\n",
      "Epoch 21/30\n",
      "169/169 - 4s - loss: 0.4776 - accuracy: 0.8308 - val_loss: 0.7907 - val_accuracy: 0.7341\n",
      "Epoch 22/30\n",
      "169/169 - 4s - loss: 0.4673 - accuracy: 0.8364 - val_loss: 0.8025 - val_accuracy: 0.7274\n",
      "Epoch 23/30\n",
      "169/169 - 4s - loss: 0.4483 - accuracy: 0.8412 - val_loss: 0.6924 - val_accuracy: 0.7570\n",
      "Epoch 24/30\n",
      "169/169 - 4s - loss: 0.4231 - accuracy: 0.8477 - val_loss: 0.7119 - val_accuracy: 0.7585\n",
      "Epoch 25/30\n",
      "169/169 - 4s - loss: 0.4074 - accuracy: 0.8557 - val_loss: 0.7695 - val_accuracy: 0.7378\n",
      "Epoch 26/30\n",
      "169/169 - 4s - loss: 0.4068 - accuracy: 0.8568 - val_loss: 0.7652 - val_accuracy: 0.7452\n",
      "Epoch 27/30\n",
      "169/169 - 4s - loss: 0.3688 - accuracy: 0.8684 - val_loss: 0.7735 - val_accuracy: 0.7511\n",
      "Epoch 28/30\n",
      "169/169 - 4s - loss: 0.3648 - accuracy: 0.8681 - val_loss: 0.7871 - val_accuracy: 0.7259\n",
      "Epoch 29/30\n",
      "169/169 - 4s - loss: 0.3462 - accuracy: 0.8809 - val_loss: 0.7443 - val_accuracy: 0.7481\n",
      "Epoch 30/30\n",
      "169/169 - 4s - loss: 0.3301 - accuracy: 0.8899 - val_loss: 0.7260 - val_accuracy: 0.7644\n"
     ]
    }
   ],
   "source": [
    "es = EarlyStopping(patience=10, restore_best_weights=True)\n",
    "\n",
    "history = cnn_model.fit(X_train, y_train,\n",
    "                      epochs= 30,\n",
    "                      batch_size= 32,\n",
    "                      validation_data= (X_val, y_val),\n",
    "                      verbose=2,\n",
    "                      callbacks= [es])"
   ]
  },
  {
   "cell_type": "markdown",
   "metadata": {},
   "source": [
    "## On new wavfile"
   ]
  },
  {
   "cell_type": "code",
   "execution_count": 85,
   "metadata": {},
   "outputs": [],
   "source": [
    "def split_audio(test_data):\n",
    "    signal, sr = librosa.load(test_data)\n",
    "\n",
    "    start = 0\n",
    "    split_data = {}\n",
    "    duration = int(librosa.get_duration(signal)) # duration\n",
    "    \n",
    "    \n",
    "    if duration < 30:\n",
    "        print(\"Please upload a song of at least 30 seconds\")\n",
    "        \n",
    "    else:\n",
    "        batch_size = sr * 30  # get num of vectors per 30 secs\n",
    "        length = len(signal) # total len of signal array\n",
    "        num_iter = duration // 30 # model trained with 30 second clips\n",
    "        # num of times to loop over len \n",
    "        for i in range(num_iter):\n",
    "            # slice 30 seconds--> batch size \n",
    "            split_data['batch_'+ str(i+1)] = signal[start: start+batch_size]\n",
    "            start += batch_size  #update start index\n",
    "\n",
    "        num_splits = len(split_data)\n",
    "    \n",
    "        return split_data, num_splits\n",
    "\n",
    "# should give the num of splits as well\n",
    "\n",
    "# possibly average the predictions of each split"
   ]
  },
  {
   "cell_type": "code",
   "execution_count": null,
   "metadata": {},
   "outputs": [],
   "source": [
    "#create temp file and save split wavefiles\n",
    "#path = os.getcwd()\n",
    "#f = tempfile.TemporaryDirectory(dir= path)\n",
    "#for key, val in test.items():\n",
    "#    sf.write(f'{f.name}/{key}.wav', val, 22050)"
   ]
  },
  {
   "cell_type": "code",
   "execution_count": 167,
   "metadata": {},
   "outputs": [],
   "source": [
    "def predict(model, X):\n",
    "    \n",
    "    # reshape X\n",
    "    if X.ndim == 3:\n",
    "        X = X[np.newaxis, ...] # to match model input shape\n",
    "    else:\n",
    "        X = X[np.newaxis, ..., np.newaxis]\n",
    "    \n",
    "    # get predictions\n",
    "    pred = model.predict(X) # pred is 2D array of probs for each genre class\n",
    "    \n",
    "    # extract index with max val\n",
    "    pred = np.argmax(pred, axis=1)[0]\n",
    "    \n",
    "    return pred"
   ]
  },
  {
   "cell_type": "code",
   "execution_count": 168,
   "metadata": {
    "scrolled": true
   },
   "outputs": [],
   "source": [
    "def predict_new(model, X):\n",
    "    \n",
    "    X, num_x = split_audio(X)\n",
    "    \n",
    "    predictions = []\n",
    "\n",
    "    for key, val in X.items():\n",
    "        mfcc = get_mfcc(val)\n",
    "        pred = predict(model, mfcc)\n",
    "        predictions.append(pred)\n",
    "\n",
    "    predictions = np.array(predictions)\n",
    "    \n",
    "    pred = np.argmax(predictions)\n",
    "    \n",
    "    # labels gotten from data.json['mapping']\n",
    "    genres ={0: \"Blues\",\n",
    "         1: \"Classical\",\n",
    "         2: \"Country\",\n",
    "         3: \"Disco\",\n",
    "         4: \"Hiphop\",\n",
    "         5: \"Metal\",\n",
    "         6: \"pop\",\n",
    "         7: \"Reggae\",\n",
    "         8: \"Rock\"\n",
    "        }\n",
    "    \n",
    "    print(f\"Predicted genre: {genres.get(pred)}\")\n",
    "    \n",
    "    return genres.get(pred)\n",
    "    \n",
    "    "
   ]
  },
  {
   "cell_type": "code",
   "execution_count": 174,
   "metadata": {},
   "outputs": [],
   "source": [
    "mine_2 = 'C:/Users/cezea/Desktop/MUSIC/exports/Kulture.mp3'"
   ]
  },
  {
   "cell_type": "code",
   "execution_count": 175,
   "metadata": {},
   "outputs": [
    {
     "name": "stderr",
     "output_type": "stream",
     "text": [
      "C:\\Users\\cezea\\Anaconda3\\lib\\site-packages\\librosa\\core\\audio.py:162: UserWarning: PySoundFile failed. Trying audioread instead.\n",
      "  warnings.warn(\"PySoundFile failed. Trying audioread instead.\")\n"
     ]
    },
    {
     "name": "stdout",
     "output_type": "stream",
     "text": [
      "Predicted genre: Metal\n"
     ]
    },
    {
     "data": {
      "text/plain": [
       "'Metal'"
      ]
     },
     "execution_count": 175,
     "metadata": {},
     "output_type": "execute_result"
    }
   ],
   "source": [
    "predict_new(cnn_model, mine_2)"
   ]
  },
  {
   "cell_type": "code",
   "execution_count": null,
   "metadata": {},
   "outputs": [],
   "source": []
  }
 ],
 "metadata": {
  "kernelspec": {
   "display_name": "Python 3",
   "language": "python",
   "name": "python3"
  },
  "language_info": {
   "codemirror_mode": {
    "name": "ipython",
    "version": 3
   },
   "file_extension": ".py",
   "mimetype": "text/x-python",
   "name": "python",
   "nbconvert_exporter": "python",
   "pygments_lexer": "ipython3",
   "version": "3.7.4"
  },
  "toc": {
   "base_numbering": 1,
   "nav_menu": {},
   "number_sections": true,
   "sideBar": true,
   "skip_h1_title": false,
   "title_cell": "Table of Contents",
   "title_sidebar": "Contents",
   "toc_cell": false,
   "toc_position": {},
   "toc_section_display": true,
   "toc_window_display": false
  },
  "varInspector": {
   "cols": {
    "lenName": 16,
    "lenType": 16,
    "lenVar": 40
   },
   "kernels_config": {
    "python": {
     "delete_cmd_postfix": "",
     "delete_cmd_prefix": "del ",
     "library": "var_list.py",
     "varRefreshCmd": "print(var_dic_list())"
    },
    "r": {
     "delete_cmd_postfix": ") ",
     "delete_cmd_prefix": "rm(",
     "library": "var_list.r",
     "varRefreshCmd": "cat(var_dic_list()) "
    }
   },
   "types_to_exclude": [
    "module",
    "function",
    "builtin_function_or_method",
    "instance",
    "_Feature"
   ],
   "window_display": false
  }
 },
 "nbformat": 4,
 "nbformat_minor": 2
}

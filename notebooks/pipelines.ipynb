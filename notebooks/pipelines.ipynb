{
 "cells": [
  {
   "cell_type": "markdown",
   "metadata": {},
   "source": [
    "# Data Preprocessing"
   ]
  },
  {
   "cell_type": "code",
   "execution_count": 1,
   "metadata": {},
   "outputs": [],
   "source": [
    "from audiosep.data import split_data\n",
    "import mutagen\n",
    "import librosa\n",
    "from scipy.io import wavfile\n",
    "import librosa\n",
    "import os\n",
    "import math\n",
    "import numpy as np\n",
    "import tempfile\n",
    "import soundfile as sf\n",
    "from audiosep.data import load_data, split_data\n",
    "\n",
    "%load_ext autoreload\n",
    "%autoreload 2"
   ]
  },
  {
   "cell_type": "markdown",
   "metadata": {},
   "source": [
    "## sub sample 10"
   ]
  },
  {
   "cell_type": "markdown",
   "metadata": {},
   "source": [
    "# Test Model"
   ]
  },
  {
   "cell_type": "code",
   "execution_count": 56,
   "metadata": {},
   "outputs": [],
   "source": [
    "X_train, X_val, X_test, y_train, y_val, y_test = split_data()"
   ]
  },
  {
   "cell_type": "code",
   "execution_count": 57,
   "metadata": {},
   "outputs": [
    {
     "data": {
      "text/plain": [
       "(5397, 130, 13, 1)"
      ]
     },
     "execution_count": 57,
     "metadata": {},
     "output_type": "execute_result"
    }
   ],
   "source": [
    "X_train.shape"
   ]
  },
  {
   "cell_type": "code",
   "execution_count": null,
   "metadata": {},
   "outputs": [],
   "source": [
    "print(X_train.shape)\n",
    "print(X_val.shape)\n",
    "print(X_test.shape)"
   ]
  },
  {
   "cell_type": "code",
   "execution_count": null,
   "metadata": {},
   "outputs": [],
   "source": [
    "from sklearn.model_selection import train_test_split\n",
    "from tensorflow.keras.models import Sequential\n",
    "from tensorflow.keras.layers import BatchNormalization, Conv2D, MaxPool2D, Dense, Flatten, Dropout\n",
    "from tensorflow.keras.callbacks import EarlyStopping\n",
    "from tensorflow.keras.optimizers import Adam\n",
    "from tensorflow.keras import regularizers"
   ]
  },
  {
   "cell_type": "code",
   "execution_count": null,
   "metadata": {},
   "outputs": [],
   "source": [
    "def initialize_conv(input_shape):\n",
    "    # create model\n",
    "    model = Sequential()\n",
    "    \n",
    "    # 1st cond layer\n",
    "    model.add(Conv2D(32, (3, 3), activation= 'relu', input_shape=input_shape))\n",
    "    model.add(MaxPool2D((3, 3), strides= (2, 2), padding= 'same'))\n",
    "    model.add(BatchNormalization())\n",
    "    \n",
    "    # 2nd conv layer\n",
    "    model.add(Conv2D(32, (3, 3), activation= 'relu'))\n",
    "    model.add(MaxPool2D((3, 3), strides= (2, 2), padding= 'same'))\n",
    "    model.add(BatchNormalization())\n",
    "    \n",
    "    # 3rd conv layer\n",
    "    model.add(Conv2D(32, (2, 2), activation= 'relu'))\n",
    "    model.add(MaxPool2D((2, 2), strides= (2, 2), padding= 'same'))\n",
    "    model.add(BatchNormalization())\n",
    "    \n",
    "    # flatten to 1D array and feed to dense\n",
    "    model.add(Flatten())\n",
    "    model.add(Dense(64, activation= 'relu'))\n",
    "    model.add(Dropout(0.3))\n",
    "    \n",
    "    # output layer\n",
    "    model.add(Dense(9, activation= 'softmax'))\n",
    "    \n",
    "    # compile model\n",
    "    model.compile(loss='sparse_categorical_crossentropy',\n",
    "              optimizer=Adam(learning_rate=0.0003),\n",
    "              metrics=['accuracy'])\n",
    "    \n",
    "    return model"
   ]
  },
  {
   "cell_type": "code",
   "execution_count": null,
   "metadata": {},
   "outputs": [],
   "source": [
    "input_shape = (X_train.shape[1], X_train.shape[2], X_train.shape[3])"
   ]
  },
  {
   "cell_type": "code",
   "execution_count": null,
   "metadata": {},
   "outputs": [],
   "source": [
    "input_shape"
   ]
  },
  {
   "cell_type": "code",
   "execution_count": null,
   "metadata": {},
   "outputs": [],
   "source": [
    "cnn_model = initialize_conv(input_shape)\n",
    "cnn_model.summary()"
   ]
  },
  {
   "cell_type": "code",
   "execution_count": null,
   "metadata": {},
   "outputs": [],
   "source": [
    "es = EarlyStopping(patience=10, restore_best_weights=True)\n",
    "\n",
    "history = cnn_model.fit(X_train, y_train,\n",
    "                      epochs= 30,\n",
    "                      batch_size= 32,\n",
    "                      validation_data= (X_val, y_val),\n",
    "                      verbose=2,\n",
    "                      callbacks= [es])"
   ]
  },
  {
   "cell_type": "markdown",
   "metadata": {},
   "source": [
    "## On new wavfile"
   ]
  },
  {
   "cell_type": "code",
   "execution_count": 22,
   "metadata": {},
   "outputs": [],
   "source": [
    "def split_audio(test_data):\n",
    "    signal, sr = librosa.load(test_data)\n",
    "\n",
    "    start = 0\n",
    "    split_data = {}\n",
    "    duration = int(librosa.get_duration(signal)) # duration\n",
    "    \n",
    "    \n",
    "    if duration < 30:\n",
    "        print(\"Please upload a song of at least 30 seconds\")\n",
    "        \n",
    "    else:\n",
    "        batch_size = sr * 30  # get num of vectors per 30 secs\n",
    "        length = len(signal) # total len of signal array\n",
    "        num_iter = duration // 30 # model trained with 30 second clips\n",
    "        # num of times to loop over len \n",
    "        for i in range(num_iter):\n",
    "            # slice 30 seconds--> batch size \n",
    "            split_data['batch_'+ str(i+1)] = signal[start: start+batch_size]\n",
    "            start += batch_size  #update start index\n",
    "    \n",
    "        return split_data\n",
    "\n",
    "# should give the num of splits as well\n",
    "\n",
    "# possibly average the predictions of each split"
   ]
  },
  {
   "cell_type": "code",
   "execution_count": 23,
   "metadata": {
    "scrolled": true
   },
   "outputs": [
    {
     "name": "stderr",
     "output_type": "stream",
     "text": [
      "C:\\Users\\cezea\\Anaconda3\\lib\\site-packages\\librosa\\core\\audio.py:162: UserWarning: PySoundFile failed. Trying audioread instead.\n",
      "  warnings.warn(\"PySoundFile failed. Trying audioread instead.\")\n"
     ]
    }
   ],
   "source": [
    "split = split_audio(mine_2)"
   ]
  },
  {
   "cell_type": "code",
   "execution_count": 24,
   "metadata": {},
   "outputs": [
    {
     "data": {
      "text/plain": [
       "dict_keys(['batch_1', 'batch_2', 'batch_3', 'batch_4', 'batch_5', 'batch_6', 'batch_7', 'batch_8'])"
      ]
     },
     "execution_count": 24,
     "metadata": {},
     "output_type": "execute_result"
    }
   ],
   "source": [
    "split.keys()"
   ]
  },
  {
   "cell_type": "code",
   "execution_count": 28,
   "metadata": {},
   "outputs": [
    {
     "name": "stdout",
     "output_type": "stream",
     "text": [
      "[3.4217774e-06 5.7808688e-06 4.2841502e-06 ... 2.0577137e-03 7.7987816e-03\n",
      " 8.9051444e-03]\n",
      "[ 0.00615656 -0.00110329 -0.00772048 ...  0.02088888  0.00844402\n",
      "  0.018674  ]\n",
      "[ 0.02040437  0.02304992  0.02929443 ... -0.06571693 -0.06310181\n",
      " -0.05849043]\n",
      "[-0.05704912 -0.05775296 -0.05538409 ... -0.05545298 -0.0526839\n",
      " -0.06940664]\n",
      "[-0.06411405 -0.11004042 -0.14783971 ... -0.01402255 -0.01217717\n",
      " -0.01025919]\n",
      "[-0.00735044 -0.0028128   0.00171317 ...  0.03606275  0.04865115\n",
      "  0.06385478]\n",
      "[0.08133204 0.09838188 0.11201944 ... 0.01314554 0.01085493 0.00230194]\n",
      "[-0.00295769 -0.01142887 -0.0168938  ...  0.06745723  0.05885477\n",
      "  0.05284265]\n"
     ]
    }
   ],
   "source": [
    "for k, v in split.items():\n",
    "    print(v)"
   ]
  },
  {
   "cell_type": "code",
   "execution_count": null,
   "metadata": {},
   "outputs": [],
   "source": [
    "#create temp file and save split wavefiles\n",
    "#path = os.getcwd()\n",
    "#f = tempfile.TemporaryDirectory(dir= path)\n",
    "#for key, val in test.items():\n",
    "#    sf.write(f'{f.name}/{key}.wav', val, 22050)"
   ]
  },
  {
   "cell_type": "code",
   "execution_count": null,
   "metadata": {},
   "outputs": [],
   "source": [
    "def predict(model, X):\n",
    "    \n",
    "    # reshape X\n",
    "    if X.ndim == 3:\n",
    "        X = X[np.newaxis, ...] # to match model input shape\n",
    "    else:\n",
    "        X = X[np.newaxis, ..., np.newaxis]\n",
    "    \n",
    "    # get predictions\n",
    "    pred = model.predict(X) # pred is 2D array of probs for each genre class\n",
    "    \n",
    "    # extract index with max val\n",
    "    pred = np.argmax(pred, axis=1)[0]\n",
    "    \n",
    "    return pred"
   ]
  },
  {
   "cell_type": "code",
   "execution_count": null,
   "metadata": {
    "scrolled": true
   },
   "outputs": [],
   "source": [
    "def predict_new(model, X):\n",
    "    \n",
    "    X, num_x = split_audio(X)\n",
    "    \n",
    "    predictions = []\n",
    "\n",
    "    for key, val in X.items():\n",
    "        mfcc = get_mfcc(val)\n",
    "        pred = predict(model, mfcc)\n",
    "        predictions.append(pred)\n",
    "\n",
    "    predictions = np.array(predictions)\n",
    "    \n",
    "    pred = np.argmax(predictions)\n",
    "    \n",
    "    # labels gotten from data.json['mapping']\n",
    "    genres ={0: \"Blues\",\n",
    "         1: \"Classical\",\n",
    "         2: \"Country\",\n",
    "         3: \"Disco\",\n",
    "         4: \"Hiphop\",\n",
    "         5: \"Metal\",\n",
    "         6: \"pop\",\n",
    "         7: \"Reggae\",\n",
    "         8: \"Rock\"\n",
    "        }\n",
    "    \n",
    "    print(f\"Predicted genre: {genres.get(pred)}\")\n",
    "    \n",
    "    return genres.get(pred)\n",
    "    \n",
    "    "
   ]
  },
  {
   "cell_type": "code",
   "execution_count": 18,
   "metadata": {},
   "outputs": [],
   "source": [
    "mine_2 = 'C:/Users/cezea/Desktop/MUSIC/exports/Kulture.mp3'"
   ]
  },
  {
   "cell_type": "code",
   "execution_count": null,
   "metadata": {},
   "outputs": [],
   "source": [
    "predict_new(cnn_model, mine_2)"
   ]
  },
  {
   "cell_type": "code",
   "execution_count": null,
   "metadata": {},
   "outputs": [],
   "source": []
  }
 ],
 "metadata": {
  "kernelspec": {
   "display_name": "Python 3",
   "language": "python",
   "name": "python3"
  },
  "language_info": {
   "codemirror_mode": {
    "name": "ipython",
    "version": 3
   },
   "file_extension": ".py",
   "mimetype": "text/x-python",
   "name": "python",
   "nbconvert_exporter": "python",
   "pygments_lexer": "ipython3",
   "version": "3.7.4"
  },
  "toc": {
   "base_numbering": 1,
   "nav_menu": {},
   "number_sections": true,
   "sideBar": true,
   "skip_h1_title": false,
   "title_cell": "Table of Contents",
   "title_sidebar": "Contents",
   "toc_cell": false,
   "toc_position": {},
   "toc_section_display": true,
   "toc_window_display": false
  },
  "varInspector": {
   "cols": {
    "lenName": 16,
    "lenType": 16,
    "lenVar": 40
   },
   "kernels_config": {
    "python": {
     "delete_cmd_postfix": "",
     "delete_cmd_prefix": "del ",
     "library": "var_list.py",
     "varRefreshCmd": "print(var_dic_list())"
    },
    "r": {
     "delete_cmd_postfix": ") ",
     "delete_cmd_prefix": "rm(",
     "library": "var_list.r",
     "varRefreshCmd": "cat(var_dic_list()) "
    }
   },
   "types_to_exclude": [
    "module",
    "function",
    "builtin_function_or_method",
    "instance",
    "_Feature"
   ],
   "window_display": false
  }
 },
 "nbformat": 4,
 "nbformat_minor": 2
}

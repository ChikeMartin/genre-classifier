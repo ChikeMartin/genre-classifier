{
 "cells": [
  {
   "cell_type": "markdown",
   "metadata": {},
   "source": [
    "# Models"
   ]
  },
  {
   "cell_type": "markdown",
   "metadata": {},
   "source": [
    "## Imports and constants"
   ]
  },
  {
   "cell_type": "code",
   "execution_count": 12,
   "metadata": {},
   "outputs": [],
   "source": [
    "from audiosep.data import load_data, split_data\n",
    "import matplotlib.pyplot as plt\n",
    "from sklearn.model_selection import train_test_split\n",
    "from tensorflow.keras.models import Sequential\n",
    "from tensorflow.keras.layers import BatchNormalization, Conv2D, MaxPool2D, Dense, Flatten, Dropout\n",
    "from tensorflow.keras.callbacks import EarlyStopping\n",
    "from tensorflow.keras.optimizers import Adam\n",
    "from tensorflow.keras import regularizers"
   ]
  },
  {
   "cell_type": "code",
   "execution_count": 2,
   "metadata": {},
   "outputs": [],
   "source": [
    "%load_ext autoreload\n",
    "%autoreload 2"
   ]
  },
  {
   "cell_type": "markdown",
   "metadata": {},
   "source": [
    "## Function to plot train / validation history"
   ]
  },
  {
   "cell_type": "code",
   "execution_count": 3,
   "metadata": {},
   "outputs": [],
   "source": [
    "def plot_history(history, title='', axs=None, exp_name=\"\"):\n",
    "    if axs is not None:\n",
    "        ax1, ax2 = axs\n",
    "    else:\n",
    "        f, (ax1, ax2) = plt.subplots(2, 1, figsize=(12, 8))\n",
    "    \n",
    "    if len(exp_name) > 0 and exp_name[0] != '_':\n",
    "        exp_name = '_' + exp_name\n",
    "    ax1.plot(history.history['loss'], label='train' + exp_name)\n",
    "    ax1.plot(history.history['val_loss'], label='val' + exp_name)\n",
    "    #ax1.set_ylim(0., 2.2)\n",
    "    ax1.set_title('loss')\n",
    "    ax1.legend()\n",
    "\n",
    "    ax2.plot(history.history['accuracy'], label='train accuracy'  + exp_name)\n",
    "    ax2.plot(history.history['val_accuracy'], label='val accuracy'  + exp_name)\n",
    "    #ax2.set_ylim(0.25, 1.)\n",
    "    ax2.set_title('Accuracy')\n",
    "    ax2.legend()\n",
    "    return (ax1, ax2)"
   ]
  },
  {
   "cell_type": "markdown",
   "metadata": {},
   "source": [
    "## Load data"
   ]
  },
  {
   "cell_type": "code",
   "execution_count": 4,
   "metadata": {},
   "outputs": [],
   "source": [
    "inputs, targets = load_data()"
   ]
  },
  {
   "cell_type": "markdown",
   "metadata": {},
   "source": [
    "# Baseline model- MLP"
   ]
  },
  {
   "cell_type": "code",
   "execution_count": 5,
   "metadata": {},
   "outputs": [],
   "source": [
    "# split into train and test set\n",
    "inputs_train, inputs_test, targets_train, targets_test =train_test_split(inputs,\n",
    "                                                                         targets,\n",
    "                                                                         test_size= 0.3)"
   ]
  },
  {
   "cell_type": "code",
   "execution_count": 6,
   "metadata": {},
   "outputs": [],
   "source": [
    "# build network architecture\n",
    "#len(np.unique(targets)) # number of targets, 9 genres in this case\n",
    "\n",
    "def initialize_model():\n",
    "    model = Sequential()\n",
    "    penalty = regularizers.l2(0.001)\n",
    "\n",
    "    # input layer\n",
    "    model.add(Flatten(\n",
    "        input_shape= (inputs.shape[1], inputs.shape[2])))\n",
    "    \n",
    "    # 1st hidden layer\n",
    "    model.add(Dense(512, activation= \"relu\",\n",
    "                    kernel_regularizer=penalty))\n",
    "    model.add(Dropout(0.3))\n",
    "    \n",
    "    # 2nd hidden layer    \n",
    "    model.add(Dense(256, activation= \"relu\",\n",
    "                    kernel_regularizer=penalty))\n",
    "    model.add(Dropout(0.3))\n",
    "    \n",
    "    # 3rd hidden layer\n",
    "    model.add(Dense(64, activation= \"relu\",\n",
    "                    kernel_regularizer=penalty))\n",
    "    model.add(Dropout(0.3))\n",
    "    \n",
    "    # output layer\n",
    "    model.add(Dense(9, activation= 'softmax'))\n",
    "    \n",
    "    # compile model\n",
    "    model.compile(loss='sparse_categorical_crossentropy',\n",
    "              optimizer=Adam(learning_rate=0.0003),\n",
    "              metrics=['accuracy'])\n",
    "    return model"
   ]
  },
  {
   "cell_type": "code",
   "execution_count": 7,
   "metadata": {
    "collapsed": true
   },
   "outputs": [
    {
     "name": "stdout",
     "output_type": "stream",
     "text": [
      "Model: \"sequential\"\n",
      "_________________________________________________________________\n",
      "Layer (type)                 Output Shape              Param #   \n",
      "=================================================================\n",
      "flatten (Flatten)            (None, 1690)              0         \n",
      "_________________________________________________________________\n",
      "dense (Dense)                (None, 512)               865792    \n",
      "_________________________________________________________________\n",
      "dropout (Dropout)            (None, 512)               0         \n",
      "_________________________________________________________________\n",
      "dense_1 (Dense)              (None, 256)               131328    \n",
      "_________________________________________________________________\n",
      "dropout_1 (Dropout)          (None, 256)               0         \n",
      "_________________________________________________________________\n",
      "dense_2 (Dense)              (None, 64)                16448     \n",
      "_________________________________________________________________\n",
      "dropout_2 (Dropout)          (None, 64)                0         \n",
      "_________________________________________________________________\n",
      "dense_3 (Dense)              (None, 9)                 585       \n",
      "=================================================================\n",
      "Total params: 1,014,153\n",
      "Trainable params: 1,014,153\n",
      "Non-trainable params: 0\n",
      "_________________________________________________________________\n"
     ]
    }
   ],
   "source": [
    "model = initialize_model()\n",
    "model.summary()"
   ]
  },
  {
   "cell_type": "code",
   "execution_count": 8,
   "metadata": {},
   "outputs": [],
   "source": [
    "# train network\n",
    "es = EarlyStopping(patience=10, restore_best_weights=True)\n",
    "\n",
    "history = model.fit(inputs_train, targets_train,\n",
    "              epochs= 150,\n",
    "              batch_size= 32,\n",
    "              validation_split=0.2,\n",
    "              verbose=0,\n",
    "              callbacks= [es]\n",
    "             )"
   ]
  },
  {
   "cell_type": "code",
   "execution_count": 9,
   "metadata": {},
   "outputs": [
    {
     "name": "stdout",
     "output_type": "stream",
     "text": [
      "85/85 [==============================] - 0s 2ms/step - loss: 1.3983 - accuracy: 0.5821\n"
     ]
    }
   ],
   "source": [
    "score = model.evaluate(inputs_test, targets_test)"
   ]
  },
  {
   "cell_type": "code",
   "execution_count": 10,
   "metadata": {},
   "outputs": [
    {
     "name": "stdout",
     "output_type": "stream",
     "text": [
      "Validation loss:\t 1.3983043432235718\n",
      "Validation Accuracy:\t 0.5820674300193787\n"
     ]
    }
   ],
   "source": [
    "print(f'Validation loss:\\t {score[0]}')\n",
    "print(f'Validation Accuracy:\\t {score[1]}')"
   ]
  },
  {
   "cell_type": "code",
   "execution_count": 13,
   "metadata": {},
   "outputs": [
    {
     "data": {
      "image/png": "[encoded data removed]",
      "text/plain": [
       "<Figure size 864x576 with 2 Axes>"
      ]
     },
     "metadata": {
      "needs_background": "light"
     },
     "output_type": "display_data"
    }
   ],
   "source": [
    "plot_history(history);"
   ]
  },
  {
   "cell_type": "markdown",
   "metadata": {},
   "source": [
    "# CNN model"
   ]
  },
  {
   "cell_type": "markdown",
   "metadata": {},
   "source": [
    "Initial CNN model defined. No parameter tuning."
   ]
  },
  {
   "cell_type": "code",
   "execution_count": 14,
   "metadata": {},
   "outputs": [],
   "source": [
    "X_train, X_val, X_test, y_train, y_val, y_test = split_data()"
   ]
  },
  {
   "cell_type": "code",
   "execution_count": 15,
   "metadata": {},
   "outputs": [],
   "source": [
    "def initialize_conv(input_shape):\n",
    "    # create model\n",
    "    model = Sequential()\n",
    "    \n",
    "    # 1st cond layer\n",
    "    model.add(Conv2D(32, (3, 3), activation= 'relu', input_shape=input_shape))\n",
    "    model.add(MaxPool2D((3, 3), strides= (2, 2), padding= 'same'))\n",
    "    model.add(BatchNormalization())\n",
    "    \n",
    "    # 2nd conv layer\n",
    "    model.add(Conv2D(32, (3, 3), activation= 'relu'))\n",
    "    model.add(MaxPool2D((3, 3), strides= (2, 2), padding= 'same'))\n",
    "    model.add(BatchNormalization())\n",
    "    \n",
    "    # 3rd conv layer\n",
    "    model.add(Conv2D(32, (2, 2), activation= 'relu'))\n",
    "    model.add(MaxPool2D((2, 2), strides= (2, 2), padding= 'same'))\n",
    "    model.add(BatchNormalization())\n",
    "    \n",
    "    # flatten to 1D array and feed to dense\n",
    "    model.add(Flatten())\n",
    "    model.add(Dense(64, activation= 'relu'))\n",
    "    model.add(Dropout(0.3))\n",
    "    \n",
    "    # output layer\n",
    "    model.add(Dense(9, activation= 'softmax'))\n",
    "    \n",
    "    # compile model\n",
    "    model.compile(loss='sparse_categorical_crossentropy',\n",
    "              optimizer=Adam(learning_rate=0.0003),\n",
    "              metrics=['accuracy'])\n",
    "    \n",
    "    return model"
   ]
  },
  {
   "cell_type": "code",
   "execution_count": 16,
   "metadata": {},
   "outputs": [],
   "source": [
    "input_shape = (X_train.shape[1], X_train.shape[2], X_train.shape[3])"
   ]
  },
  {
   "cell_type": "code",
   "execution_count": 17,
   "metadata": {
    "collapsed": true
   },
   "outputs": [
    {
     "name": "stdout",
     "output_type": "stream",
     "text": [
      "Model: \"sequential_1\"\n",
      "_________________________________________________________________\n",
      "Layer (type)                 Output Shape              Param #   \n",
      "=================================================================\n",
      "conv2d (Conv2D)              (None, 128, 11, 32)       320       \n",
      "_________________________________________________________________\n",
      "max_pooling2d (MaxPooling2D) (None, 64, 6, 32)         0         \n",
      "_________________________________________________________________\n",
      "batch_normalization (BatchNo (None, 64, 6, 32)         128       \n",
      "_________________________________________________________________\n",
      "conv2d_1 (Conv2D)            (None, 62, 4, 32)         9248      \n",
      "_________________________________________________________________\n",
      "max_pooling2d_1 (MaxPooling2 (None, 31, 2, 32)         0         \n",
      "_________________________________________________________________\n",
      "batch_normalization_1 (Batch (None, 31, 2, 32)         128       \n",
      "_________________________________________________________________\n",
      "conv2d_2 (Conv2D)            (None, 30, 1, 32)         4128      \n",
      "_________________________________________________________________\n",
      "max_pooling2d_2 (MaxPooling2 (None, 15, 1, 32)         0         \n",
      "_________________________________________________________________\n",
      "batch_normalization_2 (Batch (None, 15, 1, 32)         128       \n",
      "_________________________________________________________________\n",
      "flatten_1 (Flatten)          (None, 480)               0         \n",
      "_________________________________________________________________\n",
      "dense_4 (Dense)              (None, 64)                30784     \n",
      "_________________________________________________________________\n",
      "dropout_3 (Dropout)          (None, 64)                0         \n",
      "_________________________________________________________________\n",
      "dense_5 (Dense)              (None, 9)                 585       \n",
      "=================================================================\n",
      "Total params: 45,449\n",
      "Trainable params: 45,257\n",
      "Non-trainable params: 192\n",
      "_________________________________________________________________\n"
     ]
    }
   ],
   "source": [
    "cnn_model = initialize_conv(input_shape)\n",
    "cnn_model.summary()"
   ]
  },
  {
   "cell_type": "code",
   "execution_count": 18,
   "metadata": {
    "scrolled": true
   },
   "outputs": [
    {
     "name": "stdout",
     "output_type": "stream",
     "text": [
      "Epoch 1/30\n",
      "169/169 - 4s - loss: 1.9184 - accuracy: 0.3576 - val_loss: 1.5876 - val_accuracy: 0.4615\n",
      "Epoch 2/30\n",
      "169/169 - 4s - loss: 1.4452 - accuracy: 0.4869 - val_loss: 1.2324 - val_accuracy: 0.5385\n",
      "Epoch 3/30\n",
      "169/169 - 4s - loss: 1.2664 - accuracy: 0.5414 - val_loss: 1.0929 - val_accuracy: 0.5963\n",
      "Epoch 4/30\n",
      "169/169 - 4s - loss: 1.1383 - accuracy: 0.5964 - val_loss: 1.0338 - val_accuracy: 0.6252\n",
      "Epoch 5/30\n",
      "169/169 - 4s - loss: 1.0479 - accuracy: 0.6253 - val_loss: 0.9668 - val_accuracy: 0.6504\n",
      "Epoch 6/30\n",
      "169/169 - 4s - loss: 0.9642 - accuracy: 0.6602 - val_loss: 0.9096 - val_accuracy: 0.6615\n",
      "Epoch 7/30\n",
      "169/169 - 4s - loss: 0.9122 - accuracy: 0.6798 - val_loss: 0.9282 - val_accuracy: 0.6644\n",
      "Epoch 8/30\n",
      "169/169 - 4s - loss: 0.8447 - accuracy: 0.7047 - val_loss: 0.8485 - val_accuracy: 0.7030\n",
      "Epoch 9/30\n",
      "169/169 - 4s - loss: 0.7911 - accuracy: 0.7280 - val_loss: 0.8520 - val_accuracy: 0.7059\n",
      "Epoch 10/30\n",
      "169/169 - 4s - loss: 0.7462 - accuracy: 0.7417 - val_loss: 0.8184 - val_accuracy: 0.7200\n",
      "Epoch 11/30\n",
      "169/169 - 4s - loss: 0.7113 - accuracy: 0.7539 - val_loss: 0.8291 - val_accuracy: 0.7044\n",
      "Epoch 12/30\n",
      "169/169 - 4s - loss: 0.6803 - accuracy: 0.7619 - val_loss: 0.7967 - val_accuracy: 0.7126\n",
      "Epoch 13/30\n",
      "169/169 - 4s - loss: 0.6369 - accuracy: 0.7788 - val_loss: 0.8025 - val_accuracy: 0.7252\n",
      "Epoch 14/30\n",
      "169/169 - 4s - loss: 0.6319 - accuracy: 0.7732 - val_loss: 0.7917 - val_accuracy: 0.7274\n",
      "Epoch 15/30\n",
      "169/169 - 4s - loss: 0.5843 - accuracy: 0.7949 - val_loss: 0.7500 - val_accuracy: 0.7422\n",
      "Epoch 16/30\n",
      "169/169 - 4s - loss: 0.5579 - accuracy: 0.8069 - val_loss: 0.7869 - val_accuracy: 0.7215\n",
      "Epoch 17/30\n",
      "169/169 - 4s - loss: 0.5464 - accuracy: 0.8093 - val_loss: 0.7703 - val_accuracy: 0.7370\n",
      "Epoch 18/30\n",
      "169/169 - 4s - loss: 0.5114 - accuracy: 0.8260 - val_loss: 0.8017 - val_accuracy: 0.7311\n",
      "Epoch 19/30\n",
      "169/169 - 4s - loss: 0.4865 - accuracy: 0.8266 - val_loss: 0.7959 - val_accuracy: 0.7341\n",
      "Epoch 20/30\n",
      "169/169 - 4s - loss: 0.4613 - accuracy: 0.8399 - val_loss: 0.7378 - val_accuracy: 0.7481\n",
      "Epoch 21/30\n",
      "169/169 - 4s - loss: 0.4459 - accuracy: 0.8508 - val_loss: 0.7859 - val_accuracy: 0.7459\n",
      "Epoch 22/30\n",
      "169/169 - 4s - loss: 0.4496 - accuracy: 0.8477 - val_loss: 0.7832 - val_accuracy: 0.7326\n",
      "Epoch 23/30\n",
      "169/169 - 4s - loss: 0.4239 - accuracy: 0.8547 - val_loss: 0.7477 - val_accuracy: 0.7541\n",
      "Epoch 24/30\n",
      "169/169 - 4s - loss: 0.4193 - accuracy: 0.8571 - val_loss: 0.7707 - val_accuracy: 0.7526\n",
      "Epoch 25/30\n",
      "169/169 - 4s - loss: 0.3761 - accuracy: 0.8686 - val_loss: 0.7565 - val_accuracy: 0.7519\n",
      "Epoch 26/30\n",
      "169/169 - 4s - loss: 0.3556 - accuracy: 0.8799 - val_loss: 0.7400 - val_accuracy: 0.7607\n",
      "Epoch 27/30\n",
      "169/169 - 4s - loss: 0.3561 - accuracy: 0.8762 - val_loss: 0.7233 - val_accuracy: 0.7563\n",
      "Epoch 28/30\n",
      "169/169 - 4s - loss: 0.3400 - accuracy: 0.8842 - val_loss: 0.7196 - val_accuracy: 0.7667\n",
      "Epoch 29/30\n",
      "169/169 - 4s - loss: 0.3342 - accuracy: 0.8838 - val_loss: 0.8224 - val_accuracy: 0.7333\n",
      "Epoch 30/30\n",
      "169/169 - 4s - loss: 0.3140 - accuracy: 0.8931 - val_loss: 0.7324 - val_accuracy: 0.7674\n"
     ]
    }
   ],
   "source": [
    "es = EarlyStopping(patience=10, restore_best_weights=True)\n",
    "\n",
    "history = cnn_model.fit(X_train, y_train,\n",
    "                      epochs= 30,\n",
    "                      batch_size= 32,\n",
    "                      validation_data= (X_val, y_val),\n",
    "                      verbose=2,\n",
    "                      callbacks= [es])"
   ]
  },
  {
   "cell_type": "code",
   "execution_count": 19,
   "metadata": {},
   "outputs": [
    {
     "data": {
      "text/plain": [
       "(<matplotlib.axes._subplots.AxesSubplot at 0x17016f96f48>,\n",
       " <matplotlib.axes._subplots.AxesSubplot at 0x1701707ed08>)"
      ]
     },
     "execution_count": 19,
     "metadata": {},
     "output_type": "execute_result"
    },
    {
     "data": {
      "image/png": "[encoded data removed]",
      "text/plain": [
       "<Figure size 864x576 with 2 Axes>"
      ]
     },
     "metadata": {
      "needs_background": "light"
     },
     "output_type": "display_data"
    }
   ],
   "source": [
    "plot_history(history)"
   ]
  },
  {
   "cell_type": "code",
   "execution_count": 20,
   "metadata": {},
   "outputs": [
    {
     "name": "stdout",
     "output_type": "stream",
     "text": [
      "71/71 [==============================] - 0s 5ms/step - loss: 0.7318 - accuracy: 0.7577\n"
     ]
    },
    {
     "data": {
      "text/plain": [
       "[0.7317885756492615, 0.7576701045036316]"
      ]
     },
     "execution_count": 20,
     "metadata": {},
     "output_type": "execute_result"
    }
   ],
   "source": [
    "cnn_model.evaluate(X_test, y_test)"
   ]
  },
  {
   "cell_type": "markdown",
   "metadata": {},
   "source": [
    "## Inference From CNN"
   ]
  },
  {
   "cell_type": "code",
   "execution_count": 24,
   "metadata": {},
   "outputs": [],
   "source": [
    "def predict(model, X, y):\n",
    "    # reshape X\n",
    "    X = X[np.newaxis, ...] # to match model input shape\n",
    "    \n",
    "    # get predictions\n",
    "    pred = model.predict(X) # pred is 2D array of probs for each genre class\n",
    "    \n",
    "    # extract index with max val\n",
    "    pred = np.argmax(pred, axis=1)[0]\n",
    "    \n",
    "    # gotten from data.json['mapping']\n",
    "    genres ={0: \"blues\",\n",
    "         1: \"classical\",\n",
    "         2: \"country\",\n",
    "         3: \"disco\",\n",
    "         4: \"hiphop\",\n",
    "         5: \"metal\",\n",
    "         6: \"pop\",\n",
    "         7: \"reggae\",\n",
    "         8: \"rock\"\n",
    "        }\n",
    "    if y == pred:\n",
    "        print(f\"Expected genre: {genres.get(y)}\\tPredicted genre: {genres.get(pred)}\\t CORRECT\")\n",
    "    else:\n",
    "        print(f\"Expected genre: {genres.get(y)}\\tPredicted genre: {genres.get(pred)}\\t WRONG\")"
   ]
  },
  {
   "cell_type": "markdown",
   "metadata": {},
   "source": [
    "Testing random predictions from test set"
   ]
  },
  {
   "cell_type": "code",
   "execution_count": 27,
   "metadata": {},
   "outputs": [
    {
     "name": "stdout",
     "output_type": "stream",
     "text": [
      "Expected genre: reggae\tPredicted genre: reggae\t CORRECT\n",
      "Expected genre: pop\tPredicted genre: pop\t CORRECT\n",
      "Expected genre: country\tPredicted genre: country\t CORRECT\n",
      "Expected genre: reggae\tPredicted genre: hiphop\t WRONG\n",
      "Expected genre: rock\tPredicted genre: rock\t CORRECT\n",
      "Expected genre: classical\tPredicted genre: classical\t CORRECT\n",
      "Expected genre: disco\tPredicted genre: disco\t CORRECT\n",
      "Expected genre: pop\tPredicted genre: hiphop\t WRONG\n",
      "Expected genre: rock\tPredicted genre: metal\t WRONG\n",
      "Expected genre: country\tPredicted genre: country\t CORRECT\n",
      "Expected genre: rock\tPredicted genre: rock\t CORRECT\n",
      "Expected genre: reggae\tPredicted genre: reggae\t CORRECT\n",
      "Expected genre: disco\tPredicted genre: disco\t CORRECT\n",
      "Expected genre: reggae\tPredicted genre: reggae\t CORRECT\n",
      "Expected genre: country\tPredicted genre: country\t CORRECT\n"
     ]
    }
   ],
   "source": [
    "for _ in range(15):\n",
    "    i = np.random.randint(low=1, high=2249)\n",
    "    predict(cnn_model, X_test[i], y_test[i])"
   ]
  }
 ],
 "metadata": {
  "kernelspec": {
   "display_name": "Python 3",
   "language": "python",
   "name": "python3"
  },
  "language_info": {
   "codemirror_mode": {
    "name": "ipython",
    "version": 3
   },
   "file_extension": ".py",
   "mimetype": "text/x-python",
   "name": "python",
   "nbconvert_exporter": "python",
   "pygments_lexer": "ipython3",
   "version": "3.7.4"
  },
  "toc": {
   "base_numbering": 1,
   "nav_menu": {},
   "number_sections": true,
   "sideBar": true,
   "skip_h1_title": false,
   "title_cell": "Table of Contents",
   "title_sidebar": "Contents",
   "toc_cell": false,
   "toc_position": {},
   "toc_section_display": true,
   "toc_window_display": false
  },
  "varInspector": {
   "cols": {
    "lenName": 16,
    "lenType": 16,
    "lenVar": 40
   },
   "kernels_config": {
    "python": {
     "delete_cmd_postfix": "",
     "delete_cmd_prefix": "del ",
     "library": "var_list.py",
     "varRefreshCmd": "print(var_dic_list())"
    },
    "r": {
     "delete_cmd_postfix": ") ",
     "delete_cmd_prefix": "rm(",
     "library": "var_list.r",
     "varRefreshCmd": "cat(var_dic_list()) "
    }
   },
   "types_to_exclude": [
    "module",
    "function",
    "builtin_function_or_method",
    "instance",
    "_Feature"
   ],
   "window_display": false
  }
 },
 "nbformat": 4,
 "nbformat_minor": 2
}

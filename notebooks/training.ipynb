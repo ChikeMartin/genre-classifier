{
 "cells": [
  {
   "cell_type": "markdown",
   "metadata": {},
   "source": [
    "# Training Workflow"
   ]
  },
  {
   "cell_type": "markdown",
   "metadata": {},
   "source": [
    "Notebook to bring everything together into a single training object."
   ]
  },
  {
   "cell_type": "code",
   "execution_count": 1,
   "metadata": {},
   "outputs": [],
   "source": [
    "%load_ext autoreload\n",
    "%autoreload 2"
   ]
  },
  {
   "cell_type": "code",
   "execution_count": 2,
   "metadata": {},
   "outputs": [],
   "source": [
    "from tensorflow.keras.callbacks import EarlyStopping\n",
    "from tensorflow.keras.optimizers import Adam\n",
    "from tensorflow.keras import regularizers\n",
    "from audiosep.model import convnet_model\n",
    "from audiosep.data import load_data, save_mfcc, split_data\n",
    "import joblib\n",
    "import pickle"
   ]
  },
  {
   "cell_type": "code",
   "execution_count": 8,
   "metadata": {},
   "outputs": [],
   "source": [
    "class Trainer(object):\n",
    "    \n",
    "    def __init__(self, json_path, **kwargs):\n",
    "        self.json_path = json_path  #path of training mfccs\n",
    "        self.kwargs = kwargs\n",
    "        self.X_train, self.X_val, self.X_test, self.y_train, self.y_val, self.y_test = \\\n",
    "            split_data(dataset_path= self.json_path)\n",
    "        self.input_shape = self.X_train.shape[1:]\n",
    "        self.model = convnet_model(self.input_shape)\n",
    "        self.genres = {0: \"Blues\",\n",
    "                       1: \"Classical\",\n",
    "                       2: \"Country\",\n",
    "                       3: \"Disco\",\n",
    "                       4: \"Hiphop\",\n",
    "                       5: \"Metal\",\n",
    "                       6: \"pop\",\n",
    "                       7: \"Reggae\",\n",
    "                       8: \"Rock\"\n",
    "                      }\n",
    "        \n",
    "    def train(self, epochs= 30, batch_size= 32, verbose= 0):\n",
    "        es = EarlyStopping(patience=10, restore_best_weights=True)\n",
    "\n",
    "        self.model.fit(self.X_train, self.y_train,\n",
    "                       epochs= epochs,\n",
    "                       batch_size= batch_size,\n",
    "                       validation_data= (self.X_val, self.y_val),\n",
    "                       verbose= verbose,\n",
    "                       callbacks= [es])\n",
    "    def evaluate(self, test=False):\n",
    "        if test:\n",
    "            test_metrics = self.model.evaluate(self.X_test, self.y_test, verbose= 0)\n",
    "            test_print = f\"test accuracy: {test_metrics[1]}\"\n",
    "            print(test_print)\n",
    "        train_metrics = self.model.evaluate(self.X_train, self.y_train, verbose= 0)\n",
    "        val_metrics = self.model.evaluate(self.X_val, self.y_val, verbose= 0)\n",
    "        \n",
    "        train_print = f\"train loss: {train_metrics[0]}, train accuracy: {train_metrics[1]}\"\n",
    "        val_print =  f\"val loss: {val_metrics[0]}, val accuracy: {val_metrics[1]}\"\n",
    "        \n",
    "        print(train_print)\n",
    "        print(val_print)\n",
    "        \n",
    "    #def save_model(self):\n",
    "    #    \"\"\"Save the model into a joblib format\"\"\"\n",
    "    #    joblib.dump(self.model, 'model.joblib')\n",
    "    #    print(f\"model.joblib saved locally.\")\n",
    "        \n",
    "    def predict_new_song(self, X):\n",
    "    \n",
    "        test = save_mfcc(X, train= False, num_segments= 10, verbose=False)\n",
    "\n",
    "        predictions = []\n",
    "\n",
    "        for segment in test:\n",
    "            segment = segment[np.newaxis, ...]\n",
    "            seg_pred = self.model.predict(segment)\n",
    "            seg_pred = np.argmax(seg_pred, axis=1)[0]\n",
    "            predictions.append(seg_pred)\n",
    "\n",
    "        predictions = np.array(predictions)\n",
    "\n",
    "        values, counts = np.unique(predictions, return_counts= True)\n",
    "        index = np.argmax(counts)\n",
    "        \n",
    "        # labels gotten from data.json['mapping']\n",
    "        print(f\"Predicted genre: {self.genres.get(values[index])}\")\n",
    "        \n",
    "        #return values[index]\n",
    "        "
   ]
  },
  {
   "cell_type": "code",
   "execution_count": 9,
   "metadata": {},
   "outputs": [
    {
     "name": "stdout",
     "output_type": "stream",
     "text": [
      "Epoch 1/5\n",
      "85/85 - 2s - loss: 1.9116 - accuracy: 0.3545 - val_loss: 2.8334 - val_accuracy: 0.1289\n",
      "Epoch 2/5\n",
      "85/85 - 2s - loss: 1.3491 - accuracy: 0.5109 - val_loss: 1.3523 - val_accuracy: 0.5007\n",
      "Epoch 3/5\n",
      "85/85 - 2s - loss: 1.1499 - accuracy: 0.5858 - val_loss: 1.0522 - val_accuracy: 0.6104\n",
      "Epoch 4/5\n",
      "85/85 - 2s - loss: 1.0321 - accuracy: 0.6326 - val_loss: 0.9232 - val_accuracy: 0.6652\n",
      "Epoch 5/5\n",
      "85/85 - 2s - loss: 0.9361 - accuracy: 0.6681 - val_loss: 0.9026 - val_accuracy: 0.6874\n",
      "test accuracy: 0.6737777590751648\n",
      "train loss: 0.7256662845611572, train accuracy: 0.7549128532409668\n",
      "val loss: 0.9025896191596985, val accuracy: 0.6874074339866638\n"
     ]
    }
   ],
   "source": [
    "train = Trainer('../raw_data/genre/data.json')\n",
    "train.train(epochs= 5, verbose= 2)\n",
    "train.evaluate(test= True)"
   ]
  },
  {
   "cell_type": "code",
   "execution_count": 10,
   "metadata": {},
   "outputs": [],
   "source": [
    "#train.save_model()"
   ]
  },
  {
   "cell_type": "markdown",
   "metadata": {},
   "source": [
    "# Test Model on new data"
   ]
  },
  {
   "cell_type": "markdown",
   "metadata": {},
   "source": [
    "Quick test on a new wavefile, not to evaluate performance, but rather to test functionality and re-usability of the Trainer object."
   ]
  },
  {
   "cell_type": "markdown",
   "metadata": {},
   "source": [
    "Taken from local path. The same test track could be found [here](https://soundcloud.com/therealkulprit/the-city-is-mine-1)."
   ]
  },
  {
   "cell_type": "code",
   "execution_count": 11,
   "metadata": {},
   "outputs": [],
   "source": [
    "path = \"C:/Users/cezea/Desktop/MUSIC/exports/fela_vox.wav\""
   ]
  },
  {
   "cell_type": "code",
   "execution_count": 12,
   "metadata": {},
   "outputs": [
    {
     "name": "stdout",
     "output_type": "stream",
     "text": [
      "Predicted genre: Hiphop\n"
     ]
    }
   ],
   "source": [
    "train.predict_new_song(path)"
   ]
  },
  {
   "cell_type": "code",
   "execution_count": null,
   "metadata": {},
   "outputs": [],
   "source": [
    "from audiosep.train"
   ]
  },
  {
   "cell_type": "markdown",
   "metadata": {},
   "source": [
    "Correctly predicted."
   ]
  }
 ],
 "metadata": {
  "kernelspec": {
   "display_name": "Python 3",
   "language": "python",
   "name": "python3"
  },
  "language_info": {
   "codemirror_mode": {
    "name": "ipython",
    "version": 3
   },
   "file_extension": ".py",
   "mimetype": "text/x-python",
   "name": "python",
   "nbconvert_exporter": "python",
   "pygments_lexer": "ipython3",
   "version": "3.7.4"
  },
  "toc": {
   "base_numbering": 1,
   "nav_menu": {},
   "number_sections": true,
   "sideBar": true,
   "skip_h1_title": false,
   "title_cell": "Table of Contents",
   "title_sidebar": "Contents",
   "toc_cell": false,
   "toc_position": {},
   "toc_section_display": true,
   "toc_window_display": false
  },
  "varInspector": {
   "cols": {
    "lenName": 16,
    "lenType": 16,
    "lenVar": 40
   },
   "kernels_config": {
    "python": {
     "delete_cmd_postfix": "",
     "delete_cmd_prefix": "del ",
     "library": "var_list.py",
     "varRefreshCmd": "print(var_dic_list())"
    },
    "r": {
     "delete_cmd_postfix": ") ",
     "delete_cmd_prefix": "rm(",
     "library": "var_list.r",
     "varRefreshCmd": "cat(var_dic_list()) "
    }
   },
   "types_to_exclude": [
    "module",
    "function",
    "builtin_function_or_method",
    "instance",
    "_Feature"
   ],
   "window_display": false
  }
 },
 "nbformat": 4,
 "nbformat_minor": 2
}
